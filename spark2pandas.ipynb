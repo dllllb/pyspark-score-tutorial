{
  "cells": [
    {
      "cell_type": "markdown",
      "metadata": {},
      "source": [
        "# Spark DataFrames to Pandas conversion"
      ]
    },
    {
      "cell_type": "markdown",
      "metadata": {},
      "source": [
        "## toPandas with Arrow"
      ]
    },
    {
      "cell_type": "code",
      "execution_count": 1,
      "metadata": {},
      "outputs": [
        {
          "name": "stderr",
          "output_type": "stream",
          "text": [
            "25/03/17 01:16:14 WARN Utils: Your hostname, macbook-dllllb.local resolves to a loopback address: 127.0.0.1; using 192.168.1.9 instead (on interface en0)\n",
            "25/03/17 01:16:14 WARN Utils: Set SPARK_LOCAL_IP if you need to bind to another address\n",
            "Setting default log level to \"WARN\".\n",
            "To adjust logging level use sc.setLogLevel(newLevel). For SparkR, use setLogLevel(newLevel).\n",
            "25/03/17 01:16:14 WARN NativeCodeLoader: Unable to load native-hadoop library for your platform... using builtin-java classes where applicable\n",
            "25/03/17 01:16:15 WARN Utils: Service 'SparkUI' could not bind on port 4040. Attempting port 4041.\n",
            "                                                                                \r"
          ]
        },
        {
          "name": "stdout",
          "output_type": "stream",
          "text": [
            "root\n",
            " |-- uid: long (nullable = true)\n",
            " |-- x: double (nullable = false)\n",
            "\n"
          ]
        }
      ],
      "source": [
        "from pyspark.sql import SparkSession\n",
        "ss = SparkSession.builder.getOrCreate()\n",
        "\n",
        "from pyspark.sql.functions import rand\n",
        "from pyspark.sql import Row\n",
        "df = ss.sparkContext.range(1 << 22).map(lambda e: Row(uid=e)).toDF().withColumn(\"x\", rand())\n",
        "df.printSchema()"
      ]
    },
    {
      "cell_type": "code",
      "execution_count": 4,
      "metadata": {},
      "outputs": [
        {
          "name": "stderr",
          "output_type": "stream",
          "text": [
            "                                                                                \r"
          ]
        },
        {
          "name": "stdout",
          "output_type": "stream",
          "text": [
            "CPU times: user 5.36 s, sys: 1.45 s, total: 6.81 s\n",
            "Wall time: 9.85 s\n"
          ]
        }
      ],
      "source": [
        "ss.conf.set(\"spark.sql.execution.arrow.pyspark.enabled\", \"false\")\n",
        "\n",
        "%time pdf = df.toPandas()"
      ]
    },
    {
      "cell_type": "code",
      "execution_count": 5,
      "metadata": {},
      "outputs": [
        {
          "name": "stderr",
          "output_type": "stream",
          "text": [
            "[Stage 3:>                                                          (0 + 8) / 8]\r"
          ]
        },
        {
          "name": "stdout",
          "output_type": "stream",
          "text": [
            "CPU times: user 34 ms, sys: 76.4 ms, total: 110 ms\n",
            "Wall time: 1.91 s\n"
          ]
        },
        {
          "name": "stderr",
          "output_type": "stream",
          "text": [
            "                                                                                \r"
          ]
        }
      ],
      "source": [
        "ss.conf.set(\"spark.sql.execution.arrow.pyspark.enabled\", \"true\")\n",
        "\n",
        "%time pdf = df.toPandas()"
      ]
    },
    {
      "cell_type": "markdown",
      "metadata": {},
      "source": [
        "## toPandas using mapPartitions"
      ]
    },
    {
      "cell_type": "code",
      "execution_count": 5,
      "metadata": {},
      "outputs": [
        {
          "name": "stdout",
          "output_type": "stream",
          "text": [
            "root\n",
            " |-- uid: long (nullable = true)\n",
            " |-- x: double (nullable = false)\n",
            "\n"
          ]
        }
      ],
      "source": [
        "from pyspark.sql import SparkSession\n",
        "ss = SparkSession.builder.getOrCreate()\n",
        "\n",
        "from pyspark.sql.functions import rand\n",
        "from pyspark.sql import Row\n",
        "df = ss.sparkContext.range(1 << 22).map(lambda e: Row(uid=e)).toDF().withColumn(\"x\", rand())\n",
        "df = df.repartition(100)\n",
        "df.printSchema()"
      ]
    },
    {
      "cell_type": "code",
      "execution_count": 7,
      "metadata": {},
      "outputs": [
        {
          "name": "stdout",
          "output_type": "stream",
          "text": [
            "CPU times: user 73 ms, sys: 55.8 ms, total: 129 ms\n",
            "Wall time: 10.5 s\n",
            "CPU times: user 54.4 ms, sys: 49.5 ms, total: 104 ms\n",
            "Wall time: 104 ms\n"
          ]
        }
      ],
      "source": [
        "import pandas as pd\n",
        "\n",
        "def map_to_pandas(rdds):\n",
        "    return [pd.DataFrame(list(rdds))]\n",
        "\n",
        "%time parts = df.rdd.mapPartitions(map_to_pandas).collect()\n",
        "%time pdf = pd.concat(parts)"
      ]
    },
    {
      "cell_type": "code",
      "execution_count": null,
      "metadata": {},
      "outputs": [],
      "source": []
    }
  ],
  "metadata": {
    "kernelspec": {
      "display_name": ".venv",
      "language": "python",
      "name": "python3"
    },
    "language_info": {
      "codemirror_mode": {
        "name": "ipython",
        "version": 3
      },
      "file_extension": ".py",
      "mimetype": "text/x-python",
      "name": "python",
      "nbconvert_exporter": "python",
      "pygments_lexer": "ipython3",
      "version": "3.10.0"
    },
    "nteract": {
      "version": "0.23.3"
    }
  },
  "nbformat": 4,
  "nbformat_minor": 2
}
